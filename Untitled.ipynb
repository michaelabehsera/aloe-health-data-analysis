{
 "cells": [
  {
   "cell_type": "code",
   "execution_count": 1,
   "metadata": {},
   "outputs": [
    {
     "name": "stdout",
     "output_type": "stream",
     "text": [
      "Star_rating_fall_2015_C_cutoff.csv\r\n",
      "Star_rating_fall_2016_D_cutoff.csv\r\n",
      "Star_rating_fall_domain.csv\r\n",
      "Star_rating_fall_high_performing_plans.csv\r\n",
      "Star_rating_fall_low_performing_plans.csv\r\n",
      "Star_rating_fall_master data.csv\r\n",
      "Star_rating_fall_plans_final_star_rating.csv\r\n",
      "Star_rating_fall_summary.csv\r\n",
      "Star_rating_spring_C_cutoff.csv\r\n",
      "Star_rating_spring_D_cutoff.csv\r\n",
      "Star_rating_spring_domain.csv\r\n",
      "Star_rating_spring_final_star_rating.csv\r\n",
      "Star_rating_spring_high_performing_plans.csv\r\n",
      "Star_rating_spring_low_performing_plans.csv\r\n",
      "Star_rating_spring_master_data.csv\r\n",
      "Star_rating_spring_summary.csv\r\n",
      "Untitled.ipynb\r\n"
     ]
    }
   ],
   "source": [
    "ls"
   ]
  },
  {
   "cell_type": "markdown",
   "metadata": {},
   "source": [
    "## Tables of Content"
   ]
  },
  {
   "cell_type": "markdown",
   "metadata": {},
   "source": [
    "- Employee's mental health\n",
    "- Employees not having enough time to take care of their health\n",
    "- Employees and wellness programs\n",
    "- Patients don't want to seek out health, neglect\n",
    "- PCP's not collecting insurance claims\n",
    "- Online health consumer data\n",
    "- "
   ]
  },
  {
   "cell_type": "code",
   "execution_count": null,
   "metadata": {},
   "outputs": [],
   "source": []
  },
  {
   "cell_type": "code",
   "execution_count": null,
   "metadata": {},
   "outputs": [],
   "source": []
  },
  {
   "cell_type": "code",
   "execution_count": null,
   "metadata": {},
   "outputs": [],
   "source": []
  }
 ],
 "metadata": {
  "kernelspec": {
   "display_name": "Python 3",
   "language": "python",
   "name": "python3"
  },
  "language_info": {
   "codemirror_mode": {
    "name": "ipython",
    "version": 3
   },
   "file_extension": ".py",
   "mimetype": "text/x-python",
   "name": "python",
   "nbconvert_exporter": "python",
   "pygments_lexer": "ipython3",
   "version": "3.6.8"
  }
 },
 "nbformat": 4,
 "nbformat_minor": 2
}
